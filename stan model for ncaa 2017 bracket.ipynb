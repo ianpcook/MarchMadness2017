{
 "cells": [
  {
   "cell_type": "markdown",
   "metadata": {},
   "source": [
    "# Tournament simulation using PyStan\n",
    "\n",
    "In this notebook, I build a simple Bayesian model to predict the outcome of the tournament. Since the bracket deadline is soon, I don't have time to add comments and there is plenty to clean up and improve. Comments are welcome!\n",
    "\n",
    "Main idea: assign score $\\alpha_i$ to each team, predict $\\sqrt{\\Delta}$ where $\\Delta$ is the difference in scores using $\\sqrt{\\Delta} \\approx \\alpha_i - \\alpha_j + h$ where $h$ is the home-field advantage.\n",
    "\n",
    "There is no validation, so use at your own risk, though the predictions do lack creativity so it must have captured some common trends."
   ]
  },
  {
   "cell_type": "code",
   "execution_count": 118,
   "metadata": {
    "collapsed": false
   },
   "outputs": [],
   "source": [
    "import random\n",
    "from collections import Counter, defaultdict\n",
    "\n",
    "import pandas as pd\n",
    "import numpy as np\n",
    "import matplotlib.pyplot as plt\n",
    "\n",
    "%matplotlib inline\n",
    "\n",
    "import pystan as ps"
   ]
  },
  {
   "cell_type": "code",
   "execution_count": 2,
   "metadata": {
    "collapsed": true
   },
   "outputs": [],
   "source": [
    "first_season = 2010"
   ]
  },
  {
   "cell_type": "code",
   "execution_count": 3,
   "metadata": {
    "collapsed": true
   },
   "outputs": [],
   "source": [
    "def convert_Wloc(loc):\n",
    "    if loc == \"H\":\n",
    "        return 1\n",
    "    if loc == \"A\":\n",
    "        return -1\n",
    "    return 0"
   ]
  },
  {
   "cell_type": "code",
   "execution_count": 4,
   "metadata": {
    "collapsed": true
   },
   "outputs": [],
   "source": [
    "rs_df = pd.read_csv(\"data/RegularSeasonCompactResults.csv\")\n",
    "t_df = pd.read_csv(\"data/TourneyCompactResults.csv\")\n",
    "\n",
    "games = pd.concat((rs_df, t_df))\n",
    "teams = pd.read_csv(\"data/Teams.csv\")\n",
    "seeds = pd.read_csv(\"data/TourneySeeds.csv\")\n",
    "slots = pd.read_csv(\"data/TourneySlots.csv\")\n",
    "\n",
    "\n",
    "tid_to_id = { team: idx for idx, team in enumerate(teams[\"Team_Id\"].factorize()[1]) }\n",
    "id_to_tid = { idx: team for idx, team in enumerate(teams[\"Team_Id\"].factorize()[1]) }\n",
    "\n",
    "games[\"win_id\"] = games.apply(lambda x: tid_to_id[x.Wteam], 1)\n",
    "games[\"los_id\"] = games.apply(lambda x: tid_to_id[x.Lteam], 1)\n",
    "games[\"athome\"] = games.apply(lambda x: convert_Wloc(x.Wloc), 1)\n",
    "\n",
    "games = games[games[\"Season\"] >= first_season]\n",
    "\n",
    "games[\"t\"] = games.Season - first_season\n",
    "games[\"dscore\"] = np.sqrt(games.Wscore - games.Lscore)"
   ]
  },
  {
   "cell_type": "code",
   "execution_count": 5,
   "metadata": {
    "collapsed": false,
    "scrolled": false
   },
   "outputs": [
    {
     "data": {
      "text/html": [
       "<div>\n",
       "<table border=\"1\" class=\"dataframe\">\n",
       "  <thead>\n",
       "    <tr style=\"text-align: right;\">\n",
       "      <th></th>\n",
       "      <th>Season</th>\n",
       "      <th>Daynum</th>\n",
       "      <th>Wteam</th>\n",
       "      <th>Wscore</th>\n",
       "      <th>Lteam</th>\n",
       "      <th>Lscore</th>\n",
       "      <th>Wloc</th>\n",
       "      <th>Numot</th>\n",
       "      <th>win_id</th>\n",
       "      <th>los_id</th>\n",
       "      <th>athome</th>\n",
       "      <th>t</th>\n",
       "      <th>dscore</th>\n",
       "    </tr>\n",
       "  </thead>\n",
       "  <tbody>\n",
       "    <tr>\n",
       "      <th>108122</th>\n",
       "      <td>2010</td>\n",
       "      <td>7</td>\n",
       "      <td>1143</td>\n",
       "      <td>75</td>\n",
       "      <td>1293</td>\n",
       "      <td>70</td>\n",
       "      <td>H</td>\n",
       "      <td>0</td>\n",
       "      <td>42</td>\n",
       "      <td>192</td>\n",
       "      <td>1</td>\n",
       "      <td>0</td>\n",
       "      <td>2.236068</td>\n",
       "    </tr>\n",
       "    <tr>\n",
       "      <th>108123</th>\n",
       "      <td>2010</td>\n",
       "      <td>7</td>\n",
       "      <td>1314</td>\n",
       "      <td>88</td>\n",
       "      <td>1198</td>\n",
       "      <td>72</td>\n",
       "      <td>H</td>\n",
       "      <td>0</td>\n",
       "      <td>213</td>\n",
       "      <td>97</td>\n",
       "      <td>1</td>\n",
       "      <td>0</td>\n",
       "      <td>4.000000</td>\n",
       "    </tr>\n",
       "    <tr>\n",
       "      <th>108124</th>\n",
       "      <td>2010</td>\n",
       "      <td>7</td>\n",
       "      <td>1326</td>\n",
       "      <td>100</td>\n",
       "      <td>1108</td>\n",
       "      <td>60</td>\n",
       "      <td>H</td>\n",
       "      <td>0</td>\n",
       "      <td>225</td>\n",
       "      <td>7</td>\n",
       "      <td>1</td>\n",
       "      <td>0</td>\n",
       "      <td>6.324555</td>\n",
       "    </tr>\n",
       "    <tr>\n",
       "      <th>108125</th>\n",
       "      <td>2010</td>\n",
       "      <td>7</td>\n",
       "      <td>1393</td>\n",
       "      <td>75</td>\n",
       "      <td>1107</td>\n",
       "      <td>43</td>\n",
       "      <td>H</td>\n",
       "      <td>0</td>\n",
       "      <td>292</td>\n",
       "      <td>6</td>\n",
       "      <td>1</td>\n",
       "      <td>0</td>\n",
       "      <td>5.656854</td>\n",
       "    </tr>\n",
       "    <tr>\n",
       "      <th>108126</th>\n",
       "      <td>2010</td>\n",
       "      <td>9</td>\n",
       "      <td>1143</td>\n",
       "      <td>95</td>\n",
       "      <td>1178</td>\n",
       "      <td>61</td>\n",
       "      <td>H</td>\n",
       "      <td>0</td>\n",
       "      <td>42</td>\n",
       "      <td>77</td>\n",
       "      <td>1</td>\n",
       "      <td>0</td>\n",
       "      <td>5.830952</td>\n",
       "    </tr>\n",
       "  </tbody>\n",
       "</table>\n",
       "</div>"
      ],
      "text/plain": [
       "        Season  Daynum  Wteam  Wscore  Lteam  Lscore Wloc  Numot  win_id  \\\n",
       "108122    2010       7   1143      75   1293      70    H      0      42   \n",
       "108123    2010       7   1314      88   1198      72    H      0     213   \n",
       "108124    2010       7   1326     100   1108      60    H      0     225   \n",
       "108125    2010       7   1393      75   1107      43    H      0     292   \n",
       "108126    2010       9   1143      95   1178      61    H      0      42   \n",
       "\n",
       "        los_id  athome  t    dscore  \n",
       "108122     192       1  0  2.236068  \n",
       "108123      97       1  0  4.000000  \n",
       "108124       7       1  0  6.324555  \n",
       "108125       6       1  0  5.656854  \n",
       "108126      77       1  0  5.830952  "
      ]
     },
     "execution_count": 5,
     "metadata": {},
     "output_type": "execute_result"
    }
   ],
   "source": [
    "games.head()"
   ]
  },
  {
   "cell_type": "code",
   "execution_count": 6,
   "metadata": {
    "collapsed": false
   },
   "outputs": [
    {
     "data": {
      "text/plain": [
       "<matplotlib.axes._subplots.AxesSubplot at 0x10c3e4d68>"
      ]
     },
     "execution_count": 6,
     "metadata": {},
     "output_type": "execute_result"
    },
    {
     "data": {
      "image/png": "[encoded data removed]",
      "text/plain": [
       "<matplotlib.figure.Figure at 0x10c40cf98>"
      ]
     },
     "metadata": {},
     "output_type": "display_data"
    }
   ],
   "source": [
    "games.dscore.hist()"
   ]
  },
  {
   "cell_type": "code",
   "execution_count": 7,
   "metadata": {
    "collapsed": false
   },
   "outputs": [
    {
     "data": {
      "text/plain": [
       "<matplotlib.axes._subplots.AxesSubplot at 0x1054a9cc0>"
      ]
     },
     "execution_count": 7,
     "metadata": {},
     "output_type": "execute_result"
    },
    {
     "data": {
      "image/png": "[encoded data removed]",
      "text/plain": [
       "<matplotlib.figure.Figure at 0x113377e48>"
      ]
     },
     "metadata": {},
     "output_type": "display_data"
    }
   ],
   "source": [
    "games.Daynum.hist(bins=50)"
   ]
  },
  {
   "cell_type": "markdown",
   "metadata": {},
   "source": [
    "# Simple Stan model"
   ]
  },
  {
   "cell_type": "code",
   "execution_count": 8,
   "metadata": {
    "collapsed": true
   },
   "outputs": [],
   "source": [
    "stan_code = \"\"\"\n",
    "data {\n",
    "    int<lower=0> nteams; // number of teams\n",
    "    int<lower=1> nseasons; // number of seasons\n",
    "    int<lower=0> N; // number of observations\n",
    "    \n",
    "    real dscore[N]; // Outcome\n",
    "    int tid[N]; // Team\n",
    "    int oid[N]; // Opponent\n",
    "    int location[N]; // location of game\n",
    "    int season[N]; // Season of game\n",
    "}\n",
    "transformed data {}\n",
    "parameters {\n",
    "    real home;\n",
    "    real team[nteams, nseasons];\n",
    "    \n",
    "    // evolution of teams\n",
    "    real<lower=0> sigma_team0;\n",
    "    real<lower=0> sigma_teamd;\n",
    "    \n",
    "    // variance for home game advantage\n",
    "    real<lower=0, upper=5> sigma_home;\n",
    "    \n",
    "    // variance in outcome\n",
    "    real<lower=0, upper=5> sigma_score;\n",
    "}\n",
    "transformed parameters {\n",
    "    vector[N] xb;\n",
    "    for(i in 1:N) {\n",
    "        xb[i] = home * location[i] + team[tid[i], season[i]] - team[oid[i], season[i]];\n",
    "    }\n",
    "}\n",
    "model {\n",
    "    home ~ normal(0.1, sigma_home);\n",
    "    \n",
    "    for(t in 1:nteams) {\n",
    "        team[t, 1] ~ normal(0.0, sigma_team0);\n",
    "        for(s in 2:nseasons) {\n",
    "            team[t, s] ~ normal(team[t, s-1], sigma_teamd); // for now independent between seasons\n",
    "        }\n",
    "    }\n",
    "    \n",
    "    // outcome\n",
    "    dscore ~ normal(xb, sigma_score);\n",
    "}\n",
    "generated quantities {\n",
    "}\n",
    "\"\"\"\n"
   ]
  },
  {
   "cell_type": "code",
   "execution_count": 9,
   "metadata": {
    "collapsed": false
   },
   "outputs": [
    {
     "name": "stdout",
     "output_type": "stream",
     "text": [
      "Number of games: 43028\n"
     ]
    }
   ],
   "source": [
    "stan_data = {\n",
    "    \"nteams\": len(id_to_tid),\n",
    "    \"nseasons\": max(games.t)+1,\n",
    "    \"N\": len(games),\n",
    "    \"dscore\": games.dscore,\n",
    "    \"tid\": games.win_id+1,\n",
    "    \"oid\": games.los_id+1,\n",
    "    \"season\": games.t + 1,\n",
    "    \"location\": games.athome\n",
    "}\n",
    "\n",
    "print(f\"Number of games: {len(games)}\")"
   ]
  },
  {
   "cell_type": "code",
   "execution_count": 10,
   "metadata": {
    "collapsed": false,
    "scrolled": false
   },
   "outputs": [
    {
     "name": "stderr",
     "output_type": "stream",
     "text": [
      "INFO:pystan:COMPILING THE C++ CODE FOR MODEL anon_model_165a291e814ee6ab964b70cfa8acd4ed NOW.\n"
     ]
    }
   ],
   "source": [
    "stan_iters = 500\n",
    "stan_fit = ps.stan(model_code=stan_code, data=stan_data, iter=stan_iters, chains=2)"
   ]
  },
  {
   "cell_type": "code",
   "execution_count": 11,
   "metadata": {
    "collapsed": false
   },
   "outputs": [],
   "source": [
    "stan_params = stan_fit.extract()"
   ]
  },
  {
   "cell_type": "code",
   "execution_count": 12,
   "metadata": {
    "collapsed": false
   },
   "outputs": [],
   "source": [
    "team_scores = stan_params[\"team\"]\n",
    "sigma_score = stan_params[\"sigma_score\"]"
   ]
  },
  {
   "cell_type": "code",
   "execution_count": 13,
   "metadata": {
    "collapsed": false,
    "scrolled": false
   },
   "outputs": [],
   "source": [
    "def tid_to_name(tid):\n",
    "    return teams[teams.Team_Id == tid].iloc[0].Team_Name\n",
    "\n",
    "def id_to_name(idx):\n",
    "    return tid_to_name(id_to_tid[idx])"
   ]
  },
  {
   "cell_type": "code",
   "execution_count": 14,
   "metadata": {
    "collapsed": false
   },
   "outputs": [
    {
     "data": {
      "text/plain": [
       "'Wake Forest'"
      ]
     },
     "execution_count": 14,
     "metadata": {},
     "output_type": "execute_result"
    }
   ],
   "source": [
    "tid_to_name(1448)"
   ]
  },
  {
   "cell_type": "code",
   "execution_count": 17,
   "metadata": {
    "collapsed": false
   },
   "outputs": [],
   "source": [
    "mean_team_scores = team_scores.mean(axis=0)"
   ]
  },
  {
   "cell_type": "code",
   "execution_count": 94,
   "metadata": {
    "collapsed": false,
    "scrolled": false
   },
   "outputs": [
    {
     "data": {
      "text/plain": [
       "[(4.1370458523351594, ('Oregon', 231)),\n",
       " (4.1771210695785816, ('Duke', 80)),\n",
       " (4.1895745329818901, ('West Virginia', 351)),\n",
       " (4.1936618368814225, ('Florida', 95)),\n",
       " (4.2945330857353756, ('Louisville', 156)),\n",
       " (4.6221869548354935, ('Kansas', 141)),\n",
       " (4.6386753141652779, ('Gonzaga', 110)),\n",
       " (4.6935982096289592, ('Kentucky', 145)),\n",
       " (4.7075473905375249, ('North Carolina', 213)),\n",
       " (4.9315871176326898, ('Villanova', 336))]"
      ]
     },
     "execution_count": 94,
     "metadata": {},
     "output_type": "execute_result"
    }
   ],
   "source": [
    "tourny_teams = seeds[seeds.Season == 2017].Team.unique()\n",
    "tourny_teams_ids = [tid_to_id[t] for t in tourny_teams]\n",
    "\n",
    "# show top 10 teams\n",
    "qualified_teams = sorted(list(zip(mean_team_scores[tourny_teams_ids, -1], [(id_to_name(idx), idx) for idx in tourny_teams_ids])))\n",
    "\n",
    "qualified_teams[-10:]"
   ]
  },
  {
   "cell_type": "code",
   "execution_count": 95,
   "metadata": {
    "collapsed": false
   },
   "outputs": [
    {
     "data": {
      "text/plain": [
       "[(-0.6463318091133895, (\"Mt St Mary's\", 190)),\n",
       " (-0.36054690362968334, ('New Orleans', 208)),\n",
       " (-0.31071421249709114, ('UC Davis', 312)),\n",
       " (-0.30847042883226133, ('Jacksonville St', 139)),\n",
       " (-0.086105194098362522, ('TX Southern', 310))]"
      ]
     },
     "execution_count": 95,
     "metadata": {},
     "output_type": "execute_result"
    }
   ],
   "source": [
    "qualified_teams[:5]"
   ]
  },
  {
   "cell_type": "code",
   "execution_count": 146,
   "metadata": {
    "collapsed": false
   },
   "outputs": [
    {
     "data": {
      "image/png": "[encoded data removed]",
      "text/plain": [
       "<matplotlib.figure.Figure at 0x110838748>"
      ]
     },
     "metadata": {},
     "output_type": "display_data"
    }
   ],
   "source": [
    "f, ax = plt.subplots(1, 1)\n",
    "_ = ax.hist(team_scores[:, 80, -1], bins=100, range=(0, 6), alpha=0.7)\n",
    "_ = ax.hist(team_scores[:, 213, -1], bins=100, range=(0,6), alpha=0.7)"
   ]
  },
  {
   "cell_type": "markdown",
   "metadata": {},
   "source": [
    "# Tournament simulation"
   ]
  },
  {
   "cell_type": "code",
   "execution_count": 20,
   "metadata": {
    "collapsed": false,
    "scrolled": false
   },
   "outputs": [],
   "source": [
    "tournament = slots[slots.Season == 2017][[\"Slot\", \"Strongseed\", \"Weakseed\"]].set_index(\"Slot\").to_dict(\"index\")\n",
    "# purge initial playoffs\n",
    "\n",
    "tournament = {k: (v[\"Strongseed\"], v[\"Weakseed\"]) for k, v in tournament.items() if v[\"Strongseed\"][-1] != \"a\"}"
   ]
  },
  {
   "cell_type": "code",
   "execution_count": 21,
   "metadata": {
    "collapsed": false,
    "scrolled": false
   },
   "outputs": [],
   "source": [
    "initial = seeds[seeds.Season == 2017][[\"Seed\", \"Team\"]].set_index(\"Seed\").to_dict(\"index\")\n",
    "\n",
    "initial = {k: v[\"Team\"] for k, v in initial.items() if k[-1] not in [\"a\", \"b\"]}\n",
    "\n",
    "initial[\"W11\"] = 1425\n",
    "initial[\"W16\"] = 1291\n",
    "initial[\"Y16\"] = 1413\n",
    "initial[\"Z11\"] = 1243"
   ]
  },
  {
   "cell_type": "code",
   "execution_count": 22,
   "metadata": {
    "collapsed": false
   },
   "outputs": [
    {
     "data": {
      "text/plain": [
       "'Kansas St'"
      ]
     },
     "execution_count": 22,
     "metadata": {},
     "output_type": "execute_result"
    }
   ],
   "source": [
    "tid_to_name(1243)"
   ]
  },
  {
   "cell_type": "code",
   "execution_count": 57,
   "metadata": {
    "collapsed": true
   },
   "outputs": [],
   "source": [
    "def simulate_game(A, B, trace):\n",
    "    \"\"\"\n",
    "    Simulates game between teams A and B\n",
    "    \n",
    "    Returns: winner, loser, margin\n",
    "    \"\"\"\n",
    "    idA = tid_to_id[A]\n",
    "    idB = tid_to_id[B]\n",
    "    \n",
    "    # find team coefficients\n",
    "    alpha_a = team_scores[trace, idA, -1]\n",
    "    alpha_b = team_scores[trace, idB, -1]\n",
    "    \n",
    "    sqrt_score = random.gauss(alpha_a - alpha_b, sigma_score[trace])\n",
    "    \n",
    "    # return result\n",
    "    if sqrt_score >= 0:\n",
    "        return A, B, sqrt_score**2\n",
    "    \n",
    "    return B, A, sqrt_score**2"
   ]
  },
  {
   "cell_type": "markdown",
   "metadata": {},
   "source": [
    "Checking whether simulations make sense. Win percentage seem a little conservative between number 1 and number 16 seed, which is normal for this type of model. The predicted scores are clearly over-dispersed; that is due to the square root. However, it shouldn't influence the simulations too much."
   ]
  },
  {
   "cell_type": "code",
   "execution_count": 96,
   "metadata": {
    "collapsed": false
   },
   "outputs": [
    {
     "name": "stdout",
     "output_type": "stream",
     "text": [
      "Simulating Villanova vs UC Davis\n",
      "Villanova wins 97.77777777777777%\n"
     ]
    },
    {
     "data": {
      "image/png": "[encoded data removed]",
      "text/plain": [
       "<matplotlib.figure.Figure at 0x10de2bf98>"
      ]
     },
     "metadata": {},
     "output_type": "display_data"
    }
   ],
   "source": [
    "team_a = id_to_tid[336]\n",
    "team_b = id_to_tid[312]\n",
    "tid_to_name(team_a), tid_to_name(team_b)\n",
    "\n",
    "raw_games = []\n",
    "for _ in range(10):\n",
    "    raw_games += [simulate_game(team_a, team_b, t) for t in range(50, stan_iters)]\n",
    "    \n",
    "final_scores = [(2*(a==team_a)-1) * score for a, b, score in raw_games]\n",
    "\n",
    "print(f\"Simulating {tid_to_name(team_a)} vs {tid_to_name(team_b)}\")\n",
    "a_win_perc = len([s for s in final_scores if s > 0]) / len(final_scores)\n",
    "print(f\"{tid_to_name(team_a)} wins {100*a_win_perc}%\")\n",
    "\n",
    "f = plt.hist(final_scores, bins=100, label=\"Final score\")"
   ]
  },
  {
   "cell_type": "code",
   "execution_count": 97,
   "metadata": {
    "collapsed": true
   },
   "outputs": [],
   "source": [
    "def simulate_tournament(trace):\n",
    "    results = {seed: team for seed, team in initial.items()}\n",
    "    games = []\n",
    "    \n",
    "    for match, (teamA, teamB) in tournament.items():\n",
    "        winner, loser, score = simulate_game(results[teamA], results[teamB], trace)\n",
    "        results[match] = winner\n",
    "        # round of game\n",
    "        r = match[1]\n",
    "        games.append((winner, loser, score, r))\n",
    "    \n",
    "    # clean initial seeds\n",
    "    clean_results = {r: tid_to_name(winner)\n",
    "            for r, winner in results.items() if r[0] == \"R\"}\n",
    "    \n",
    "    return clean_results, games"
   ]
  },
  {
   "cell_type": "markdown",
   "metadata": {},
   "source": [
    "## Simulate a single tournament"
   ]
  },
  {
   "cell_type": "code",
   "execution_count": 114,
   "metadata": {
    "collapsed": false,
    "scrolled": false
   },
   "outputs": [],
   "source": [
    "results, games = simulate_tournament(101)\n",
    "\n",
    "for tidA, tidB, score, rnd in games:\n",
    "    print(\"Round {3}: {0:<20} def.    {1:<20}  {2}\".format(tid_to_name(tidA), tid_to_name(tidB), int(score), rnd))"
   ]
  },
  {
   "cell_type": "markdown",
   "metadata": {},
   "source": [
    "# Simulate many tournaments"
   ]
  },
  {
   "cell_type": "code",
   "execution_count": 135,
   "metadata": {
    "collapsed": false
   },
   "outputs": [],
   "source": [
    "round_counters = defaultdict(Counter)"
   ]
  },
  {
   "cell_type": "code",
   "execution_count": 144,
   "metadata": {
    "collapsed": false
   },
   "outputs": [],
   "source": [
    "for _ in range(10000):\n",
    "    trace = random.randint(50, 499)\n",
    "    sim, _ = simulate_tournament(trace)\n",
    "    for rnd, team in sim.items():\n",
    "        round_counters[rnd].update([team]) "
   ]
  },
  {
   "cell_type": "code",
   "execution_count": 148,
   "metadata": {
    "collapsed": false
   },
   "outputs": [],
   "source": [
    "def perc_counter(cntr):\n",
    "    total = sum(cntr.values())\n",
    "    return sorted([(team, cnt/total) for team, cnt in cntr.items()], key=lambda x: -x[1])"
   ]
  },
  {
   "cell_type": "code",
   "execution_count": 155,
   "metadata": {
    "collapsed": false,
    "scrolled": false
   },
   "outputs": [
    {
     "name": "stdout",
     "output_type": "stream",
     "text": [
      "Round: R1W1\n",
      "98.4% : Villanova\n",
      "1.6% : Mt St Mary's\n",
      "----------\n",
      "Round: R1W2\n",
      "94.9% : Duke\n",
      "5.1% : Troy\n",
      "----------\n",
      "Round: R1W3\n",
      "82.6% : Baylor\n",
      "17.4% : New Mexico St\n",
      "----------\n",
      "Round: R1W4\n",
      "82.8% : Florida\n",
      "17.2% : ETSU\n",
      "----------\n",
      "Round: R1W5\n",
      "74.4% : Virginia\n",
      "25.6% : UNC Wilmington\n",
      "----------\n",
      "Round: R1W6\n",
      "69.4% : SMU\n",
      "30.6% : USC\n",
      "----------\n",
      "Round: R1W7\n",
      "54.7% : South Carolina\n",
      "45.3% : Marquette\n",
      "----------\n",
      "Round: R1W8\n",
      "64.6% : Wisconsin\n",
      "35.4% : Virginia Tech\n",
      "----------\n",
      "Round: R1X1\n",
      "95.5% : Gonzaga\n",
      "4.5% : S Dakota St\n",
      "----------\n",
      "Round: R1X2\n",
      "94.3% : Arizona\n",
      "5.7% : North Dakota\n",
      "----------\n",
      "Round: R1X3\n",
      "85.8% : Florida St\n",
      "14.2% : FL Gulf Coast\n",
      "----------\n",
      "Round: R1X4\n",
      "86.4% : West Virginia\n",
      "13.6% : Bucknell\n",
      "----------\n",
      "Round: R1X5\n",
      "72.2% : Notre Dame\n",
      "27.8% : Princeton\n",
      "----------\n",
      "Round: R1X6\n",
      "50.9% : Xavier\n",
      "49.1% : Maryland\n",
      "----------\n",
      "Round: R1X7\n",
      "61.3% : St Mary's CA\n",
      "38.7% : VA Commonwealth\n",
      "----------\n",
      "Round: R1X8\n",
      "52.6% : Vanderbilt\n",
      "47.4% : Northwestern\n",
      "----------\n",
      "Round: R1Y1\n",
      "97.4% : Kansas\n",
      "2.6% : UC Davis\n",
      "----------\n",
      "Round: R1Y2\n",
      "96.4% : Louisville\n",
      "3.6% : Jacksonville St\n",
      "----------\n",
      "Round: R1Y3\n",
      "89.5% : Oregon\n",
      "10.4% : Iona\n",
      "----------\n",
      "Round: R1Y4\n",
      "79.2% : Purdue\n",
      "20.8% : Vermont\n",
      "----------\n",
      "Round: R1Y5\n",
      "69.8% : Iowa St\n",
      "30.2% : Nevada\n",
      "----------\n",
      "Round: R1Y6\n",
      "60.4% : Creighton\n",
      "39.6% : Rhode Island\n",
      "----------\n",
      "Round: R1Y7\n",
      "51.1% : Michigan\n",
      "48.9% : Oklahoma St\n",
      "----------\n",
      "Round: R1Y8\n",
      "55.4% : Miami FL\n",
      "44.6% : Michigan St\n",
      "----------\n",
      "Round: R1Z1\n",
      "96.8% : North Carolina\n",
      "3.2% : TX Southern\n",
      "----------\n",
      "Round: R1Z2\n",
      "96.0% : Kentucky\n",
      "4.0% : N Kentucky\n",
      "----------\n",
      "Round: R1Z3\n",
      "90.4% : UCLA\n",
      "9.6% : Kent\n",
      "----------\n",
      "Round: R1Z4\n",
      "83.5% : Butler\n",
      "16.5% : Winthrop\n",
      "----------\n",
      "Round: R1Z5\n",
      "53.5% : Minnesota\n",
      "46.5% : MTSU\n",
      "----------\n",
      "Round: R1Z6\n",
      "63.7% : Cincinnati\n",
      "36.3% : Kansas St\n",
      "----------\n",
      "Round: R1Z7\n",
      "66.4% : Wichita St\n",
      "33.6% : Dayton\n",
      "----------\n",
      "Round: R1Z8\n",
      "52.0% : Arkansas\n",
      "48.0% : Seton Hall\n",
      "----------\n",
      "Round: R2W1\n",
      "75.8% : Villanova\n",
      "18.0% : Wisconsin\n",
      "6.0% : Virginia Tech\n",
      "0.2% : Mt St Mary's\n",
      "----------\n",
      "Round: R2W2\n",
      "67.8% : Duke\n",
      "17.9% : South Carolina\n",
      "13.4% : Marquette\n",
      "0.9% : Troy\n",
      "----------\n",
      "Round: R2W3\n",
      "46.8% : Baylor\n",
      "38.4% : SMU\n",
      "10.6% : USC\n",
      "4.2% : New Mexico St\n",
      "----------\n",
      "Round: R2W4\n",
      "47.4% : Florida\n",
      "40.6% : Virginia\n",
      "8.0% : UNC Wilmington\n",
      "4.0% : ETSU\n",
      "----------\n",
      "Round: R2X1\n",
      "74.9% : Gonzaga\n",
      "13.3% : Vanderbilt\n",
      "11.0% : Northwestern\n",
      "0.8% : S Dakota St\n",
      "----------\n",
      "Round: R2X2\n",
      "60.1% : Arizona\n",
      "26.6% : St Mary's CA\n",
      "12.7% : VA Commonwealth\n",
      "0.5% : North Dakota\n",
      "----------\n",
      "Round: R2X3\n",
      "51.6% : Florida St\n",
      "23.0% : Xavier\n",
      "22.3% : Maryland\n",
      "3.0% : FL Gulf Coast\n",
      "----------\n",
      "Round: R2X4\n",
      "57.7% : West Virginia\n",
      "31.4% : Notre Dame\n",
      "7.1% : Princeton\n",
      "3.9% : Bucknell\n",
      "----------\n",
      "Round: R2Y1\n",
      "72.5% : Kansas\n",
      "16.4% : Miami FL\n",
      "10.8% : Michigan St\n",
      "0.4% : UC Davis\n",
      "----------\n",
      "Round: R2Y2\n",
      "64.6% : Louisville\n",
      "18.0% : Michigan\n",
      "17.0% : Oklahoma St\n",
      "0.4% : Jacksonville St\n",
      "----------\n",
      "Round: R2Y3\n",
      "59.1% : Oregon\n",
      "25.1% : Creighton\n",
      "13.5% : Rhode Island\n",
      "2.3% : Iona\n",
      "----------\n",
      "Round: R2Y4\n",
      "46.7% : Purdue\n",
      "36.8% : Iowa St\n",
      "10.5% : Nevada\n",
      "6.0% : Vermont\n",
      "----------\n",
      "Round: R2Z1\n",
      "75.9% : North Carolina\n",
      "13.0% : Arkansas\n",
      "10.7% : Seton Hall\n",
      "0.4% : TX Southern\n",
      "----------\n",
      "Round: R2Z2\n",
      "63.8% : Kentucky\n",
      "27.0% : Wichita St\n",
      "8.7% : Dayton\n",
      "0.5% : N Kentucky\n",
      "----------\n",
      "Round: R2Z3\n",
      "54.3% : UCLA\n",
      "30.9% : Cincinnati\n",
      "13.4% : Kansas St\n",
      "1.4% : Kent\n",
      "----------\n",
      "Round: R2Z4\n",
      "54.8% : Butler\n",
      "22.2% : Minnesota\n",
      "18.0% : MTSU\n",
      "4.9% : Winthrop\n",
      "----------\n",
      "Round: R3W1\n",
      "48.6% : Villanova\n",
      "21.7% : Florida\n",
      "18.0% : Virginia\n",
      "7.7% : Wisconsin\n",
      "1.9% : Virginia Tech\n",
      "1.5% : UNC Wilmington\n",
      "0.7% : ETSU\n",
      "0.0% : Mt St Mary's\n",
      "----------\n",
      "Round: R3W2\n",
      "38.9% : Duke\n",
      "25.6% : Baylor\n",
      "19.5% : SMU\n",
      "6.8% : South Carolina\n",
      "4.6% : Marquette\n",
      "3.6% : USC\n",
      "0.9% : New Mexico St\n",
      "0.1% : Troy\n",
      "----------\n",
      "Round: R3X1\n",
      "47.4% : Gonzaga\n",
      "29.3% : West Virginia\n",
      "12.5% : Notre Dame\n",
      "4.7% : Vanderbilt\n",
      "3.7% : Northwestern\n",
      "1.5% : Princeton\n",
      "0.8% : Bucknell\n",
      "0.1% : S Dakota St\n",
      "----------\n",
      "Round: R3X2\n",
      "37.9% : Arizona\n",
      "24.1% : Florida St\n",
      "14.6% : St Mary's CA\n",
      "8.8% : Xavier\n",
      "8.3% : Maryland\n",
      "5.8% : VA Commonwealth\n",
      "0.4% : FL Gulf Coast\n",
      "0.1% : North Dakota\n",
      "----------\n",
      "Round: R3Y1\n",
      "47.9% : Kansas\n",
      "21.3% : Purdue\n",
      "15.8% : Iowa St\n",
      "7.0% : Miami FL\n",
      "4.1% : Michigan St\n",
      "2.7% : Nevada\n",
      "1.2% : Vermont\n",
      "0.0% : UC Davis\n",
      "----------\n",
      "Round: R3Y2\n",
      "38.7% : Louisville\n",
      "31.7% : Oregon\n",
      "10.5% : Creighton\n",
      "7.5% : Michigan\n",
      "7.1% : Oklahoma St\n",
      "4.2% : Rhode Island\n",
      "0.2% : Iona\n",
      "0.0% : Jacksonville St\n",
      "----------\n",
      "Round: R3Z1\n",
      "56.4% : North Carolina\n",
      "21.5% : Butler\n",
      "6.1% : Minnesota\n",
      "6.0% : Arkansas\n",
      "4.9% : Seton Hall\n",
      "4.4% : MTSU\n",
      "0.6% : Winthrop\n",
      "0.1% : TX Southern\n",
      "----------\n",
      "Round: R3Z2\n",
      "43.2% : Kentucky\n",
      "22.8% : UCLA\n",
      "15.0% : Wichita St\n",
      "11.6% : Cincinnati\n",
      "3.7% : Kansas St\n",
      "3.4% : Dayton\n",
      "0.2% : Kent\n",
      "0.0% : N Kentucky\n",
      "----------\n",
      "Round: R4W1\n",
      "32.7% : Villanova\n",
      "17.9% : Duke\n",
      "12.4% : Florida\n",
      "11.3% : Baylor\n",
      "9.3% : Virginia\n",
      "7.9% : SMU\n",
      "3.3% : Wisconsin\n",
      "1.9% : South Carolina\n",
      "1.2% : Marquette\n",
      "0.9% : USC\n",
      "0.5% : Virginia Tech\n",
      "0.4% : UNC Wilmington\n",
      "0.2% : ETSU\n",
      "0.1% : New Mexico St\n",
      "0.0% : Mt St Mary's\n",
      "----------\n",
      "Round: R4X1\n",
      "30.6% : Gonzaga\n",
      "19.4% : Arizona\n",
      "16.8% : West Virginia\n",
      "10.4% : Florida St\n",
      "5.9% : St Mary's CA\n",
      "5.6% : Notre Dame\n",
      "3.0% : Maryland\n",
      "2.9% : Xavier\n",
      "1.9% : VA Commonwealth\n",
      "1.6% : Vanderbilt\n",
      "1.2% : Northwestern\n",
      "0.5% : Princeton\n",
      "0.1% : Bucknell\n",
      "0.0% : FL Gulf Coast\n",
      "0.0% : S Dakota St\n",
      "----------\n",
      "Round: R4Y1\n",
      "28.5% : Kansas\n",
      "20.7% : Louisville\n",
      "16.6% : Oregon\n",
      "10.7% : Purdue\n",
      "7.3% : Iowa St\n",
      "4.1% : Creighton\n",
      "3.1% : Michigan\n",
      "2.9% : Miami FL\n",
      "2.7% : Oklahoma St\n",
      "1.4% : Michigan St\n",
      "1.3% : Rhode Island\n",
      "0.6% : Nevada\n",
      "0.2% : Vermont\n",
      "0.0% : Iona\n",
      "----------\n",
      "Round: R4Z1\n",
      "33.0% : North Carolina\n",
      "25.6% : Kentucky\n",
      "11.6% : UCLA\n",
      "8.9% : Butler\n",
      "7.4% : Wichita St\n",
      "4.9% : Cincinnati\n",
      "1.9% : Arkansas\n",
      "1.8% : Minnesota\n",
      "1.4% : Seton Hall\n",
      "1.2% : MTSU\n",
      "1.1% : Kansas St\n",
      "1.1% : Dayton\n",
      "0.1% : Winthrop\n",
      "0.0% : Kent\n",
      "----------\n",
      "Round: R5WX\n",
      "20.3% : Villanova\n",
      "16.8% : Gonzaga\n",
      "9.8% : Duke\n",
      "9.2% : Arizona\n",
      "8.1% : West Virginia\n",
      "6.7% : Florida\n",
      "5.8% : Baylor\n",
      "5.0% : Virginia\n",
      "4.0% : Florida St\n",
      "3.6% : SMU\n",
      "2.4% : St Mary's CA\n",
      "2.1% : Notre Dame\n",
      "1.4% : Wisconsin\n",
      "1.0% : Maryland\n",
      "0.9% : Xavier\n",
      "0.7% : South Carolina\n",
      "0.5% : VA Commonwealth\n",
      "0.5% : Vanderbilt\n",
      "0.3% : Marquette\n",
      "0.2% : Northwestern\n",
      "0.2% : Virginia Tech\n",
      "0.1% : USC\n",
      "0.1% : Princeton\n",
      "0.1% : UNC Wilmington\n",
      "0.1% : ETSU\n",
      "0.0% : Bucknell\n",
      "0.0% : New Mexico St\n",
      "0.0% : FL Gulf Coast\n",
      "----------\n",
      "Round: R5YZ\n",
      "19.6% : North Carolina\n",
      "15.6% : Kansas\n",
      "15.6% : Kentucky\n",
      "10.4% : Louisville\n",
      "8.2% : Oregon\n",
      "5.7% : UCLA\n",
      "4.6% : Purdue\n",
      "3.8% : Wichita St\n",
      "3.5% : Butler\n",
      "3.1% : Iowa St\n",
      "2.0% : Cincinnati\n",
      "1.6% : Creighton\n",
      "1.1% : Michigan\n",
      "1.0% : Miami FL\n",
      "0.9% : Oklahoma St\n",
      "0.6% : Arkansas\n",
      "0.5% : Minnesota\n",
      "0.4% : Seton Hall\n",
      "0.4% : Michigan St\n",
      "0.4% : Dayton\n",
      "0.4% : MTSU\n",
      "0.3% : Kansas St\n",
      "0.3% : Rhode Island\n",
      "0.1% : Nevada\n",
      "0.0% : Vermont\n",
      "0.0% : Iona\n",
      "0.0% : Winthrop\n",
      "0.0% : Kent\n",
      "----------\n",
      "Round: R6CH\n",
      "12.2% : Villanova\n",
      "11.4% : North Carolina\n",
      "9.5% : Gonzaga\n",
      "8.9% : Kentucky\n",
      "8.5% : Kansas\n",
      "4.8% : Duke\n",
      "4.8% : Louisville\n",
      "4.3% : Arizona\n",
      "4.0% : Oregon\n",
      "3.8% : West Virginia\n",
      "3.2% : Florida\n",
      "2.7% : Baylor\n",
      "2.5% : UCLA\n",
      "2.3% : Virginia\n",
      "2.0% : Purdue\n",
      "1.8% : Wichita St\n",
      "1.6% : Florida St\n",
      "1.6% : Butler\n",
      "1.5% : SMU\n",
      "1.3% : Iowa St\n",
      "0.9% : St Mary's CA\n",
      "0.8% : Cincinnati\n",
      "0.8% : Notre Dame\n",
      "0.6% : Wisconsin\n",
      "0.5% : Creighton\n",
      "0.5% : Michigan\n",
      "0.4% : Xavier\n",
      "0.3% : Oklahoma St\n",
      "0.3% : Miami FL\n",
      "0.3% : Maryland\n",
      "0.2% : VA Commonwealth\n",
      "0.2% : South Carolina\n",
      "0.2% : Arkansas\n",
      "0.1% : MTSU\n",
      "0.1% : Michigan St\n",
      "0.1% : Marquette\n",
      "0.1% : Vanderbilt\n",
      "0.1% : Dayton\n",
      "0.1% : Seton Hall\n",
      "0.1% : Minnesota\n",
      "0.1% : Kansas St\n",
      "0.1% : Rhode Island\n",
      "0.1% : Northwestern\n",
      "0.1% : USC\n",
      "0.1% : Virginia Tech\n",
      "0.0% : UNC Wilmington\n",
      "0.0% : Nevada\n",
      "0.0% : Princeton\n",
      "0.0% : ETSU\n",
      "----------\n"
     ]
    }
   ],
   "source": [
    "percentages = {rnd: perc_counter(c) for rnd, c in round_counters.items()}\n",
    "\n",
    "for rnd, teams in percentages.items():\n",
    "    print(\"Round: {}\".format(rnd))\n",
    "    for team, perc in teams:\n",
    "        print(\"{:>3.1f}% : {}\".format(100*perc, team))\n",
    "    print(\"-\"*10)"
   ]
  },
  {
   "cell_type": "code",
   "execution_count": null,
   "metadata": {
    "collapsed": true
   },
   "outputs": [],
   "source": []
  }
 ],
 "metadata": {
  "kernelspec": {
   "display_name": "Python 3",
   "language": "python",
   "name": "python3"
  },
  "language_info": {
   "codemirror_mode": {
    "name": "ipython",
    "version": 3
   },
   "file_extension": ".py",
   "mimetype": "text/x-python",
   "name": "python",
   "nbconvert_exporter": "python",
   "pygments_lexer": "ipython3",
   "version": "3.6.0"
  }
 },
 "nbformat": 4,
 "nbformat_minor": 2
}
